{
 "cells": [
  {
   "cell_type": "code",
   "execution_count": 97,
   "id": "c3c4abde",
   "metadata": {},
   "outputs": [],
   "source": [
    "import json\n",
    "import pathlib\n",
    "from collections import defaultdict\n",
    "log_dir = r\"logs\"\n",
    "logs = {}\n",
    "with open('logs_analysis/futures_path_trace.json','w') as jf:\n",
    "    for log_file in pathlib.Path(log_dir).iterdir():\n",
    "        with open(log_file) as file:\n",
    "            dct = defaultdict(list)\n",
    "            for lineno,line in enumerate(file,start = 1):\n",
    "                line = json.loads(line)\n",
    "                try:\n",
    "                    if (fut_name := line.get('msg').get(\"vars\").get(\"future_name\")) is not None:\n",
    "                        dct[fut_name]+=[line['func_name']+f'_{line[\"lineno\"]}'] \n",
    "                except AttributeError as e:\n",
    "                    pass\n",
    "            logs[log_file.name] = dct\n",
    "    json.dump(logs,jf,indent = 1)\n"
   ]
  },
  {
   "cell_type": "code",
   "execution_count": 92,
   "id": "85f17782",
   "metadata": {},
   "outputs": [
    {
     "data": {
      "text/plain": [
       "[]"
      ]
     },
     "execution_count": 92,
     "metadata": {},
     "output_type": "execute_result"
    }
   ],
   "source": [
    "dct[\"tasks_noawait.log\"]"
   ]
  },
  {
   "cell_type": "code",
   "execution_count": 76,
   "id": "baf2d9d6",
   "metadata": {},
   "outputs": [
    {
     "data": {
      "text/plain": [
       "defaultdict(list,\n",
       "            {'Task-1: name: 1': ['__step_run_and_handle_result_307_2025-07-30 05:02:14 665460 PM',\n",
       "              '__step_run_and_handle_result_310_2025-07-30 05:02:14 665460 PM',\n",
       "              '__step_run_and_handle_result_327_2025-07-30 05:02:14 670164 PM',\n",
       "              '__step_run_and_handle_result_332_2025-07-30 05:02:14 670657 PM',\n",
       "              '__step_run_and_handle_result_337_2025-07-30 05:02:14 671387 PM',\n",
       "              '__wakeup_374_2025-07-30 05:02:18 684319 PM',\n",
       "              '__wakeup_377_2025-07-30 05:02:18 684319 PM',\n",
       "              '__wakeup_379_2025-07-30 05:02:18 684319 PM',\n",
       "              '__wakeup_395_2025-07-30 05:02:18 684319 PM',\n",
       "              '__wakeup_398_2025-07-30 05:02:18 694816 PM'],\n",
       "             'Task-2: name: 1': ['__step_run_and_handle_result_307_2025-07-30 05:02:14 677667 PM',\n",
       "              '__step_run_and_handle_result_310_2025-07-30 05:02:14 677667 PM',\n",
       "              '__step_run_and_handle_result_327_2025-07-30 05:02:14 677667 PM',\n",
       "              '__step_run_and_handle_result_332_2025-07-30 05:02:14 677667 PM',\n",
       "              '__step_run_and_handle_result_337_2025-07-30 05:02:14 677667 PM',\n",
       "              '__wakeup_374_2025-07-30 05:02:15 178537 PM',\n",
       "              '__wakeup_377_2025-07-30 05:02:15 180557 PM',\n",
       "              '__wakeup_379_2025-07-30 05:02:15 180557 PM',\n",
       "              '__wakeup_395_2025-07-30 05:02:15 182570 PM',\n",
       "              '__wakeup_398_2025-07-30 05:02:15 200084 PM'],\n",
       "             'Task-3: name: 1': ['__step_run_and_handle_result_307_2025-07-30 05:02:14 686195 PM',\n",
       "              '__step_run_and_handle_result_310_2025-07-30 05:02:14 686195 PM',\n",
       "              '__step_run_and_handle_result_327_2025-07-30 05:02:14 686195 PM',\n",
       "              '__step_run_and_handle_result_332_2025-07-30 05:02:14 686195 PM',\n",
       "              '__step_run_and_handle_result_337_2025-07-30 05:02:14 686195 PM',\n",
       "              '__wakeup_374_2025-07-30 05:02:14 782097 PM',\n",
       "              '__wakeup_377_2025-07-30 05:02:14 785596 PM',\n",
       "              '__wakeup_379_2025-07-30 05:02:14 785596 PM',\n",
       "              '__wakeup_395_2025-07-30 05:02:14 785596 PM',\n",
       "              '__wakeup_398_2025-07-30 05:02:14 803441 PM'],\n",
       "             'Task-4: name: 1': ['__step_run_and_handle_result_307_2025-07-30 05:02:14 694329 PM',\n",
       "              '__step_run_and_handle_result_310_2025-07-30 05:02:14 694879 PM',\n",
       "              '__step_run_and_handle_result_327_2025-07-30 05:02:14 695324 PM',\n",
       "              '__step_run_and_handle_result_332_2025-07-30 05:02:14 695324 PM',\n",
       "              '__step_run_and_handle_result_337_2025-07-30 05:02:14 696268 PM',\n",
       "              '__wakeup_374_2025-07-30 05:02:14 803441 PM',\n",
       "              '__wakeup_377_2025-07-30 05:02:14 803441 PM',\n",
       "              '__wakeup_379_2025-07-30 05:02:14 803441 PM',\n",
       "              '__wakeup_395_2025-07-30 05:02:14 803441 PM',\n",
       "              '__wakeup_398_2025-07-30 05:02:14 813673 PM']})"
      ]
     },
     "execution_count": 76,
     "metadata": {},
     "output_type": "execute_result"
    }
   ],
   "source": [
    "lifcycle"
   ]
  },
  {
   "cell_type": "code",
   "execution_count": 77,
   "id": "4f096b84",
   "metadata": {},
   "outputs": [
    {
     "data": {
      "text/plain": [
       "{'Task-1: name: 1': 10,\n",
       " 'Task-2: name: 1': 10,\n",
       " 'Task-3: name: 1': 10,\n",
       " 'Task-4: name: 1': 10}"
      ]
     },
     "execution_count": 77,
     "metadata": {},
     "output_type": "execute_result"
    }
   ],
   "source": [
    "{x:len(v) for x,v in lifcycle.items()}"
   ]
  },
  {
   "cell_type": "code",
   "execution_count": 52,
   "id": "1b2f8d53",
   "metadata": {},
   "outputs": [
    {
     "data": {
      "text/plain": [
       "{'Custom-task-Task-1: name: 1': 20,\n",
       " 'Custom-task-Task-2: name: 1': 20,\n",
       " 'Custom-task-Task-2: name: 2': 20,\n",
       " 'Custom-task-Task-1: name: 2': 20,\n",
       " 'Custom-task-Task-1: name: 3': 20}"
      ]
     },
     "execution_count": 52,
     "metadata": {},
     "output_type": "execute_result"
    }
   ],
   "source": [
    "{x:len(v) for x,v in lifcycle.items()}"
   ]
  },
  {
   "cell_type": "code",
   "execution_count": 53,
   "id": "e8c4c4db",
   "metadata": {},
   "outputs": [
    {
     "data": {
      "text/plain": [
       "{'Custom-task-Task-1: name: 1': 20,\n",
       " 'Custom-task-Task-2: name: 1': 20,\n",
       " 'Custom-task-Task-2: name: 2': 20,\n",
       " 'Custom-task-Task-1: name: 2': 20,\n",
       " 'Custom-task-Task-1: name: 3': 20}"
      ]
     },
     "execution_count": 53,
     "metadata": {},
     "output_type": "execute_result"
    }
   ],
   "source": [
    "{x:len(v) for x,v in lifcycle.items()}"
   ]
  },
  {
   "cell_type": "code",
   "execution_count": 100,
   "id": "8684433b",
   "metadata": {},
   "outputs": [
    {
     "name": "stdout",
     "output_type": "stream",
     "text": [
      "{'datetime': '2025-07-30 08:09:17 460958 PM', 'level': 'INFO', 'func_name': '__step_run_and_handle_result', 'lineno': 312, 'filename': 'tasks.py', 'msg': {'msg': 'try-else in __step_run_and_handle_result', 'vars': {'task_name': 'ASYNC-Custom-task-Task-1', 'future_name': 'ASYNC-Custom-task-Task-1: name: 1', 'result': '<Future pending created at C:\\\\Users\\\\shaik\\\\AppData\\\\Local\\\\Programs\\\\Python\\\\Python312\\\\Lib\\\\asyncio\\\\base_events.py:448>', 'is_asyncio_future_blocking': 'getattr(result,\"_asyncio_future_blocking\", None)= True'}}}\n",
      "{'datetime': '2025-07-30 08:09:17 460958 PM', 'level': 'INFO', 'func_name': '__step_run_and_handle_result', 'lineno': 315, 'filename': 'tasks.py', 'msg': {'msg': 'is_future blocking', 'vars': {'task_name': 'ASYNC-Custom-task-Task-1', 'future_name': 'ASYNC-Custom-task-Task-1: name: 1', 'is_future_blocking': True}}}\n",
      "{'datetime': '2025-07-30 08:09:17 460958 PM', 'level': 'INFO', 'func_name': '__step_run_and_handle_result', 'lineno': 332, 'filename': 'tasks.py', 'msg': {'msg': 'scheduling on EVENT_LOOP callback to fututre.add_done_call_back', 'vars': {'task_name': 'ASYNC-Custom-task-Task-1', 'future_name': 'ASYNC-Custom-task-Task-1: name: 1', 'future_state': 'PENDING', 'result': '<Future pending created at C:\\\\Users\\\\shaik\\\\AppData\\\\Local\\\\Programs\\\\Python\\\\Python312\\\\Lib\\\\asyncio\\\\base_events.py:448>', 'scheduler_type': 'call_soon'}}}\n",
      "{'datetime': '2025-07-30 08:09:17 460958 PM', 'level': 'INFO', 'func_name': '__step_run_and_handle_result', 'lineno': 337, 'filename': 'tasks.py', 'msg': {'msg': 'After scheduling callbacks to fut. self._future_wait = result', 'vars': {'task_name': 'ASYNC-Custom-task-Task-1', 'future_name': 'ASYNC-Custom-task-Task-1: name: 1', 'result': '<Future pending cb=[Task.__wakeup()] created at C:\\\\Users\\\\shaik\\\\AppData\\\\Local\\\\Programs\\\\Python\\\\Python312\\\\Lib\\\\asyncio\\\\base_events.py:448>', 'self._fut_waiter': None, 'future_state': 'PENDING', 'future_callbacks_list(fut._callbacks)': [['__wakeup', 'method']]}}}\n",
      "{'datetime': '2025-07-30 08:09:17 460958 PM', 'level': 'INFO', 'func_name': '__step_run_and_handle_result', 'lineno': 343, 'filename': 'tasks.py', 'msg': {'msg': 'self._fut_waiter set to result', 'vars': {'task_name': 'ASYNC-Custom-task-Task-1', 'future_name': 'ASYNC-Custom-task-Task-1: name: 1', 'future_state': 'PENDING', 'self._fut_waiter': '<Future pending cb=[Task.__wakeup()] created at C:\\\\Users\\\\shaik\\\\AppData\\\\Local\\\\Programs\\\\Python\\\\Python312\\\\Lib\\\\asyncio\\\\base_events.py:448>'}}}\n",
      "{'datetime': '2025-07-30 08:09:21 468422 PM', 'level': 'INFO', 'func_name': '__wakeup', 'lineno': 381, 'filename': 'tasks.py', 'msg': {'msg': '__wakeup entered', 'vars': {'task_name': 'ASYNC-Custom-task-Task-1', 'future_name': 'ASYNC-Custom-task-Task-1: name: 1', 'future_state': 'FINISHED'}}}\n",
      "{'datetime': '2025-07-30 08:09:21 468422 PM', 'level': 'INFO', 'func_name': '__wakeup', 'lineno': 384, 'filename': 'tasks.py', 'msg': {'msg': 'will call future.result()', 'vars': {'task_name': 'ASYNC-Custom-task-Task-1', 'future_name': 'ASYNC-Custom-task-Task-1: name: 1'}}}\n",
      "{'datetime': '2025-07-30 08:09:21 468422 PM', 'level': 'INFO', 'func_name': '__wakeup', 'lineno': 386, 'filename': 'tasks.py', 'msg': {'msg': '__wakeup after future.result()', 'vars': {'task_name': 'ASYNC-Custom-task-Task-1', 'future_name': 'ASYNC-Custom-task-Task-1: name: 1', 'future._state': 'FINISHED'}}}\n",
      "{'datetime': '2025-07-30 08:09:21 468422 PM', 'level': 'INFO', 'func_name': '__wakeup', 'lineno': 402, 'filename': 'tasks.py', 'msg': {'msg': '__wakeup faced no exception when it called future.result()(ASYNC-Custom-task-Task-1: name: 1). calling again __step with no exc. I guess StopIteration will be raised', 'vars': {'task_name': 'ASYNC-Custom-task-Task-1', 'future_name': 'ASYNC-Custom-task-Task-1: name: 1'}}}\n",
      "{'datetime': '2025-07-30 08:09:21 468422 PM', 'level': 'INFO', 'func_name': '__step_run_and_handle_result', 'lineno': 312, 'filename': 'tasks.py', 'msg': {'msg': 'try-else in __step_run_and_handle_result', 'vars': {'task_name': 'ASYNC-Custom-task-Task-1', 'future_name': 'ASYNC-Custom-task-Task-1: name: 2', 'result': '<Future pending created at C:\\\\Users\\\\shaik\\\\AppData\\\\Local\\\\Programs\\\\Python\\\\Python312\\\\Lib\\\\asyncio\\\\base_events.py:448>', 'is_asyncio_future_blocking': 'getattr(result,\"_asyncio_future_blocking\", None)= True'}}}\n",
      "{'datetime': '2025-07-30 08:09:21 468422 PM', 'level': 'INFO', 'func_name': '__step_run_and_handle_result', 'lineno': 315, 'filename': 'tasks.py', 'msg': {'msg': 'is_future blocking', 'vars': {'task_name': 'ASYNC-Custom-task-Task-1', 'future_name': 'ASYNC-Custom-task-Task-1: name: 2', 'is_future_blocking': True}}}\n",
      "{'datetime': '2025-07-30 08:09:21 468422 PM', 'level': 'INFO', 'func_name': '__step_run_and_handle_result', 'lineno': 332, 'filename': 'tasks.py', 'msg': {'msg': 'scheduling on EVENT_LOOP callback to fututre.add_done_call_back', 'vars': {'task_name': 'ASYNC-Custom-task-Task-1', 'future_name': 'ASYNC-Custom-task-Task-1: name: 2', 'future_state': 'PENDING', 'result': '<Future pending created at C:\\\\Users\\\\shaik\\\\AppData\\\\Local\\\\Programs\\\\Python\\\\Python312\\\\Lib\\\\asyncio\\\\base_events.py:448>', 'scheduler_type': 'call_soon'}}}\n",
      "{'datetime': '2025-07-30 08:09:21 468422 PM', 'level': 'INFO', 'func_name': '__step_run_and_handle_result', 'lineno': 337, 'filename': 'tasks.py', 'msg': {'msg': 'After scheduling callbacks to fut. self._future_wait = result', 'vars': {'task_name': 'ASYNC-Custom-task-Task-1', 'future_name': 'ASYNC-Custom-task-Task-1: name: 2', 'result': '<Future pending cb=[Task.__wakeup()] created at C:\\\\Users\\\\shaik\\\\AppData\\\\Local\\\\Programs\\\\Python\\\\Python312\\\\Lib\\\\asyncio\\\\base_events.py:448>', 'self._fut_waiter': None, 'future_state': 'PENDING', 'future_callbacks_list(fut._callbacks)': [['__wakeup', 'method']]}}}\n",
      "{'datetime': '2025-07-30 08:09:21 468422 PM', 'level': 'INFO', 'func_name': '__step_run_and_handle_result', 'lineno': 343, 'filename': 'tasks.py', 'msg': {'msg': 'self._fut_waiter set to result', 'vars': {'task_name': 'ASYNC-Custom-task-Task-1', 'future_name': 'ASYNC-Custom-task-Task-1: name: 2', 'future_state': 'PENDING', 'self._fut_waiter': '<Future pending cb=[Task.__wakeup()] created at C:\\\\Users\\\\shaik\\\\AppData\\\\Local\\\\Programs\\\\Python\\\\Python312\\\\Lib\\\\asyncio\\\\base_events.py:448>'}}}\n",
      "{'datetime': '2025-07-30 08:09:21 484120 PM', 'level': 'INFO', 'func_name': '__wakeup', 'lineno': 405, 'filename': 'tasks.py', 'msg': {'msg': 'end of __wakeup. set self = None', 'vars': {'task_name': 'ASYNC-Custom-task-Task-1', 'future_name': 'ASYNC-Custom-task-Task-1: name: 1'}}}\n",
      "{'datetime': '2025-07-30 08:09:21 774188 PM', 'level': 'INFO', 'func_name': '__wakeup', 'lineno': 381, 'filename': 'tasks.py', 'msg': {'msg': '__wakeup entered', 'vars': {'task_name': 'ASYNC-Custom-task-Task-1', 'future_name': 'ASYNC-Custom-task-Task-1: name: 2', 'future_state': 'FINISHED'}}}\n",
      "{'datetime': '2025-07-30 08:09:21 774188 PM', 'level': 'INFO', 'func_name': '__wakeup', 'lineno': 384, 'filename': 'tasks.py', 'msg': {'msg': 'will call future.result()', 'vars': {'task_name': 'ASYNC-Custom-task-Task-1', 'future_name': 'ASYNC-Custom-task-Task-1: name: 2'}}}\n",
      "{'datetime': '2025-07-30 08:09:21 774188 PM', 'level': 'INFO', 'func_name': '__wakeup', 'lineno': 386, 'filename': 'tasks.py', 'msg': {'msg': '__wakeup after future.result()', 'vars': {'task_name': 'ASYNC-Custom-task-Task-1', 'future_name': 'ASYNC-Custom-task-Task-1: name: 2', 'future._state': 'FINISHED'}}}\n",
      "{'datetime': '2025-07-30 08:09:21 774188 PM', 'level': 'INFO', 'func_name': '__wakeup', 'lineno': 402, 'filename': 'tasks.py', 'msg': {'msg': '__wakeup faced no exception when it called future.result()(ASYNC-Custom-task-Task-1: name: 2). calling again __step with no exc. I guess StopIteration will be raised', 'vars': {'task_name': 'ASYNC-Custom-task-Task-1', 'future_name': 'ASYNC-Custom-task-Task-1: name: 2'}}}\n",
      "{'datetime': '2025-07-30 08:09:21 774188 PM', 'level': 'INFO', 'func_name': '__wakeup', 'lineno': 405, 'filename': 'tasks.py', 'msg': {'msg': 'end of __wakeup. set self = None', 'vars': {'task_name': 'ASYNC-Custom-task-Task-1', 'future_name': 'ASYNC-Custom-task-Task-1: name: 2'}}}\n"
     ]
    }
   ],
   "source": [
    "with open(\"logs/two_tasks_three_awaits.log\") as file:\n",
    "    \n",
    "    for line in file:\n",
    "        line = json.loads(line)\n",
    "        try:\n",
    "            vars = line.get('msg').get(\"vars\")\n",
    "            if (fut_name := vars.get(\"future_name\")) and '1' in fut_name and 'Task-1' in vars.get(\"task_name\"):\n",
    "                print(line)\n",
    "        except AttributeError as e:\n",
    "            pass"
   ]
  },
  {
   "cell_type": "code",
   "execution_count": 106,
   "id": "bcaafd82",
   "metadata": {},
   "outputs": [
    {
     "name": "stdout",
     "output_type": "stream",
     "text": [
      "\u001b[38;5;10m{'datetime': '2025-07-30 08:09:17 460958 PM', 'level': 'INFO', 'func_name': '__step_run_and_handle_result', 'lineno': 312, 'filename': 'tasks.py', 'msg': {'msg': 'try-else in __step_run_and_handle_result', 'vars': {'task_name': 'ASYNC-Custom-task-Task-1', 'future_name': 'ASYNC-Custom-task-Task-1: name: 1', 'result': '<Future pending created at C:\\\\Users\\\\shaik\\\\AppData\\\\Local\\\\Programs\\\\Python\\\\Python312\\\\Lib\\\\asyncio\\\\base_events.py:448>', 'is_asyncio_future_blocking': 'getattr(result,\"_asyncio_future_blocking\", None)= True'}}}\u001b[0m\n",
      "\u001b[38;5;10m{'datetime': '2025-07-30 08:09:17 460958 PM', 'level': 'INFO', 'func_name': '__step_run_and_handle_result', 'lineno': 315, 'filename': 'tasks.py', 'msg': {'msg': 'is_future blocking', 'vars': {'task_name': 'ASYNC-Custom-task-Task-1', 'future_name': 'ASYNC-Custom-task-Task-1: name: 1', 'is_future_blocking': True}}}\u001b[0m\n",
      "\u001b[38;5;10m{'datetime': '2025-07-30 08:09:17 460958 PM', 'level': 'INFO', 'func_name': '__step_run_and_handle_result', 'lineno': 332, 'filename': 'tasks.py', 'msg': {'msg': 'scheduling on EVENT_LOOP callback to fututre.add_done_call_back', 'vars': {'task_name': 'ASYNC-Custom-task-Task-1', 'future_name': 'ASYNC-Custom-task-Task-1: name: 1', 'future_state': 'PENDING', 'result': '<Future pending created at C:\\\\Users\\\\shaik\\\\AppData\\\\Local\\\\Programs\\\\Python\\\\Python312\\\\Lib\\\\asyncio\\\\base_events.py:448>', 'scheduler_type': 'call_soon'}}}\u001b[0m\n",
      "\u001b[38;5;10m{'datetime': '2025-07-30 08:09:17 460958 PM', 'level': 'INFO', 'func_name': '__step_run_and_handle_result', 'lineno': 337, 'filename': 'tasks.py', 'msg': {'msg': 'After scheduling callbacks to fut. self._future_wait = result', 'vars': {'task_name': 'ASYNC-Custom-task-Task-1', 'future_name': 'ASYNC-Custom-task-Task-1: name: 1', 'result': '<Future pending cb=[Task.__wakeup()] created at C:\\\\Users\\\\shaik\\\\AppData\\\\Local\\\\Programs\\\\Python\\\\Python312\\\\Lib\\\\asyncio\\\\base_events.py:448>', 'self._fut_waiter': None, 'future_state': 'PENDING', 'future_callbacks_list(fut._callbacks)': [['__wakeup', 'method']]}}}\u001b[0m\n",
      "\u001b[38;5;10m{'datetime': '2025-07-30 08:09:17 460958 PM', 'level': 'INFO', 'func_name': '__step_run_and_handle_result', 'lineno': 343, 'filename': 'tasks.py', 'msg': {'msg': 'self._fut_waiter set to result', 'vars': {'task_name': 'ASYNC-Custom-task-Task-1', 'future_name': 'ASYNC-Custom-task-Task-1: name: 1', 'future_state': 'PENDING', 'self._fut_waiter': '<Future pending cb=[Task.__wakeup()] created at C:\\\\Users\\\\shaik\\\\AppData\\\\Local\\\\Programs\\\\Python\\\\Python312\\\\Lib\\\\asyncio\\\\base_events.py:448>'}}}\u001b[0m\n",
      "\u001b[38;5;11m{'datetime': '2025-07-30 08:09:21 468422 PM', 'level': 'INFO', 'func_name': '__wakeup', 'lineno': 381, 'filename': 'tasks.py', 'msg': {'msg': '__wakeup entered', 'vars': {'task_name': 'ASYNC-Custom-task-Task-1', 'future_name': 'ASYNC-Custom-task-Task-1: name: 1', 'future_state': 'FINISHED'}}}\u001b[0m\n",
      "\u001b[38;5;11m{'datetime': '2025-07-30 08:09:21 468422 PM', 'level': 'INFO', 'func_name': '__wakeup', 'lineno': 384, 'filename': 'tasks.py', 'msg': {'msg': 'will call future.result()', 'vars': {'task_name': 'ASYNC-Custom-task-Task-1', 'future_name': 'ASYNC-Custom-task-Task-1: name: 1'}}}\u001b[0m\n",
      "\u001b[38;5;11m{'datetime': '2025-07-30 08:09:21 468422 PM', 'level': 'INFO', 'func_name': '__wakeup', 'lineno': 386, 'filename': 'tasks.py', 'msg': {'msg': '__wakeup after future.result()', 'vars': {'task_name': 'ASYNC-Custom-task-Task-1', 'future_name': 'ASYNC-Custom-task-Task-1: name: 1', 'future._state': 'FINISHED'}}}\u001b[0m\n",
      "\u001b[38;5;11m{'datetime': '2025-07-30 08:09:21 468422 PM', 'level': 'INFO', 'func_name': '__wakeup', 'lineno': 402, 'filename': 'tasks.py', 'msg': {'msg': '__wakeup faced no exception when it called future.result()(ASYNC-Custom-task-Task-1: name: 1). calling again __step with no exc. I guess StopIteration will be raised', 'vars': {'task_name': 'ASYNC-Custom-task-Task-1', 'future_name': 'ASYNC-Custom-task-Task-1: name: 1'}}}\u001b[0m\n",
      "\u001b[38;5;11m{'datetime': '2025-07-30 08:09:21 484120 PM', 'level': 'INFO', 'func_name': '__wakeup', 'lineno': 405, 'filename': 'tasks.py', 'msg': {'msg': 'end of __wakeup. set self = None', 'vars': {'task_name': 'ASYNC-Custom-task-Task-1', 'future_name': 'ASYNC-Custom-task-Task-1: name: 1'}}}\u001b[0m\n"
     ]
    }
   ],
   "source": [
    "from experiments.logger import LogColors\n",
    "mapper = {\n",
    "                                    \"__init__\": LogColors.PINK,\n",
    "                                    \"__wakeup\": LogColors.YELLOW, \"__step\": LogColors.RED,\n",
    "                                    \"__step_run_and_handle_result\": LogColors.GREEN\n",
    "}\n",
    "with open(\"logs/two_tasks_three_awaits.log\") as file:\n",
    "    \n",
    "    for line in file:\n",
    "        line = json.loads(line)\n",
    "        try:\n",
    "            vars = line.get('msg').get(\"vars\")\n",
    "            if (fut_name := vars.get(\"future_name\")) and 'name: 1' in fut_name and 'Task-1' in vars.get(\"task_name\"):\n",
    "                print(f'\\033[38;5;{mapper.get(line[\"func_name\"],LogColors.DEFAULT).value}m{line}\\033[0m')\n",
    "        except AttributeError as e:\n",
    "            pass\n"
   ]
  },
  {
   "cell_type": "markdown",
   "id": "81b555fb",
   "metadata": {},
   "source": [
    "```python\n",
    "    def __step(self, exc=None,sent_from = ''):\n",
    "        if self.done():\n",
    "            raise exceptions.InvalidStateError(\n",
    "                f'_step(): already done: {self!r}, {exc!r}')\n",
    "        if self._must_cancel:\n",
    "            if not isinstance(exc, exceptions.CancelledError):\n",
    "                exc = self._make_cancelled_error()\n",
    "            self._must_cancel = False\n",
    "        self._fut_waiter = None\n",
    "        \n",
    "        try:\n",
    "            self.__step_run_and_handle_result(exc)\n",
    "            \n",
    "        finally:\n",
    "            task_name = self._name\n",
    "            self = None  # Needed to break cycles when an exception occurs.\n",
    "            \n",
    "\n",
    "    def __step_run_and_handle_result(self, exc):\n",
    "        coro = self._coro\n",
    "        try:\n",
    "            if exc is None:\n",
    "                # We use the `send` method directly, because coroutines\n",
    "                # don't have `__iter__` and `__next__` methods.\n",
    "                result = coro.send(None)\n",
    "                \n",
    "            else:\n",
    "                \n",
    "                result = coro.throw(exc)\n",
    "                \n",
    "        except StopIteration as exc:\n",
    "            logger.info({\"msg\":\"StopIteration exception encountered.\",\"vars\":{\"task_name\": self._name,'future_name': \"NO_AWAITABLE\"}})\n",
    "            if self._must_cancel:\n",
    "                # CODE IF CANCELLED\n",
    "            else:\n",
    "                super().set_result(exc.value)\n",
    "                \n",
    "        except exceptions.CancelledError as exc:\n",
    "            # CODE\n",
    "        except (KeyboardInterrupt, SystemExit) as exc:\n",
    "            super().set_exception(exc)\n",
    "            raise\n",
    "        except BaseException as exc:\n",
    "            super().set_exception(exc)\n",
    "        else:\n",
    "            if result is not None:\n",
    "                self._fut_count += 1\n",
    "                result._fut_name = f'{self._name}: name: {self._fut_count}'\n",
    "            blocking = getattr(result, '_asyncio_future_blocking', None)\n",
    "            if blocking is not None:\n",
    "                # Yielded Future must come from Future.__iter__().\n",
    "                if futures._get_loop(result) is not self._loop:\n",
    "                    # CODE\n",
    "                elif blocking:\n",
    "                    if result is self:\n",
    "                        # RELATED CODE\n",
    "                    else:\n",
    "                        result._asyncio_future_blocking = False\n",
    "                        result.add_done_callback(\n",
    "                            self.__wakeup, context=self._context)\n",
    "                        self._fut_waiter = result\n",
    "                        if self._must_cancel:\n",
    "                            # RELATED CODE\n",
    "                else:\n",
    "                    new_exc = RuntimeError(\n",
    "                        f'yield was used instead of yield from '\n",
    "                        f'in task {self!r} with {result!r}')\n",
    "                    self._loop.call_soon(\n",
    "                        self.__step, new_exc, context=self._context,from_start = '_step_run_and_handle_result._else_blocking')\n",
    "\n",
    "            elif result is None:\n",
    "                # Bare yield relinquishes control for one event loop iteration.\n",
    "                logger.info({\"msg\": \"result is None. Scheduling on EVENT_LOOP self.__step\",'vars': {\n",
    "                    \"task_name\": self._name, \"future_name\": getattr(result,'_fut_name',\"No future\"),'scheduler_type':'call_soon'}})\n",
    "                self._loop.call_soon(self.__step, None,'__step_run_and_handle_result',context=self._context)\n",
    "            elif inspect.isgenerator(result):\n",
    "                # RELATED CODE\n",
    "            else:\n",
    "                # Yielding something else is an error.\n",
    "                new_exc = RuntimeError(f'Task got bad yield: {result!r}')\n",
    "                self._loop.call_soon(\n",
    "                    self.__step, new_exc, context=self._context)\n",
    "        finally:\n",
    "            self = None  # Needed to break cycles when an exception occurs.\n",
    "\n",
    "\n",
    "    def __wakeup(self, future):\n",
    "        try:\n",
    "            future.result()\n",
    "            \n",
    "        except BaseException as exc:\n",
    "            # This may also be a cancellation.\n",
    "            self.__step(exc,sent_from = '_wakeup._BaseException')\n",
    "         else:\n",
    "            # Don't pass the value of `future.result()` explicitly,\n",
    "            # as `Future.__iter__` and `Future.__await__` don't need it.\n",
    "            # If we call `_step(value, None)` instead of `_step()`,\n",
    "            # Python eval loop would use `.send(value)` method call,\n",
    "            # instead of `__next__()`, which is slower for futures\n",
    "            # that return non-generator iterators from their `__iter__`.\n",
    "            logger.info({'msg': f'__wakeup faced no exception when it called future.result()({future._fut_name}). calling again __step with no exc. I guess StopIteration will be raised',\n",
    "                         'vars': {\"task_name\": self._name, \"future_name\": getattr(future,'_fut_name',None)}})\n",
    "            self.__step(sent_from  = '_wakeup._else')\n",
    "        logger.info({\"msg\": \"end of __wakeup. set self = None\",'vars': {\"task_name\": self._name, \"future_name\": getattr(future,'_fut_name',None)}})\n",
    "        self = None  # Needed to break cycles when an exception occurs.\n",
    "      \n",
    "```"
   ]
  },
  {
   "cell_type": "markdown",
   "id": "69f72afc",
   "metadata": {},
   "source": []
  }
 ],
 "metadata": {
  "kernelspec": {
   "display_name": "Python 3",
   "language": "python",
   "name": "python3"
  },
  "language_info": {
   "codemirror_mode": {
    "name": "ipython",
    "version": 3
   },
   "file_extension": ".py",
   "mimetype": "text/x-python",
   "name": "python",
   "nbconvert_exporter": "python",
   "pygments_lexer": "ipython3",
   "version": "3.12.2"
  }
 },
 "nbformat": 4,
 "nbformat_minor": 5
}
